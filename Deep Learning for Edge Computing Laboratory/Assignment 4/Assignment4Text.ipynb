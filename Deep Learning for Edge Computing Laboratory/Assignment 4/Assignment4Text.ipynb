{
 "cells": [
  {
   "cell_type": "code",
   "execution_count": 5,
   "outputs": [],
   "source": [
    "from sklearn.datasets import fetch_20newsgroups\n",
    "from sklearn.feature_extraction.text import TfidfVectorizer\n",
    "from sklearn.model_selection import train_test_split\n",
    "from sklearn.preprocessing import LabelBinarizer\n",
    "from tensorflow.keras import Sequential\n",
    "from tensorflow.keras.layers import Dense\n",
    "import time"
   ],
   "metadata": {
    "collapsed": false,
    "ExecuteTime": {
     "end_time": "2024-08-27T01:09:29.235037800Z",
     "start_time": "2024-08-27T01:09:29.208989400Z"
    }
   },
   "id": "c0fa215fb7c1e8ab"
  },
  {
   "cell_type": "code",
   "execution_count": 2,
   "outputs": [],
   "source": [
    "newsgroups = fetch_20newsgroups(subset='all')\n",
    "X = newsgroups.data\n",
    "y = newsgroups.target\n",
    "\n",
    "vectorizer = TfidfVectorizer(max_features=2000)\n",
    "X_vectorized = vectorizer.fit_transform(X).toarray()\n",
    "\n",
    "lb = LabelBinarizer()\n",
    "y_encoded = lb.fit_transform(y)\n",
    "\n",
    "X_train, X_test, y_train, y_test = train_test_split(X_vectorized, y_encoded, test_size=0.2, random_state=42)"
   ],
   "metadata": {
    "collapsed": false,
    "ExecuteTime": {
     "end_time": "2024-08-27T00:56:55.322626200Z",
     "start_time": "2024-08-26T19:24:36.667330Z"
    }
   },
   "id": "96721db05aca587c"
  },
  {
   "cell_type": "code",
   "execution_count": 3,
   "outputs": [],
   "source": [
    "def build_mlp():\n",
    "    model = Sequential()\n",
    "    model.add(Dense(512, activation='relu', input_shape=(X_train.shape[1],)))\n",
    "    model.add(Dense(256, activation='relu'))\n",
    "    model.add(Dense(20, activation='softmax'))\n",
    "    return model"
   ],
   "metadata": {
    "collapsed": false,
    "ExecuteTime": {
     "end_time": "2024-08-27T00:56:55.327047700Z",
     "start_time": "2024-08-27T00:56:55.326041200Z"
    }
   },
   "id": "b379101d58441890"
  },
  {
   "cell_type": "code",
   "execution_count": 6,
   "outputs": [
    {
     "name": "stdout",
     "output_type": "stream",
     "text": [
      "Epoch 1/10\n",
      "WARNING:tensorflow:From C:\\Users\\soura\\venv\\Lib\\site-packages\\keras\\src\\utils\\tf_utils.py:492: The name tf.ragged.RaggedTensorValue is deprecated. Please use tf.compat.v1.ragged.RaggedTensorValue instead.\n",
      "WARNING:tensorflow:From C:\\Users\\soura\\venv\\Lib\\site-packages\\keras\\src\\engine\\base_layer_utils.py:384: The name tf.executing_eagerly_outside_functions is deprecated. Please use tf.compat.v1.executing_eagerly_outside_functions instead.\n",
      "472/472 [==============================] - 4s 6ms/step - loss: 1.1127 - accuracy: 0.6901 - val_loss: 0.6262 - val_accuracy: 0.8077\n",
      "Epoch 2/10\n",
      "472/472 [==============================] - 3s 5ms/step - loss: 0.3436 - accuracy: 0.8981 - val_loss: 0.6027 - val_accuracy: 0.8146\n",
      "Epoch 3/10\n",
      "472/472 [==============================] - 2s 5ms/step - loss: 0.1631 - accuracy: 0.9562 - val_loss: 0.6412 - val_accuracy: 0.8172\n",
      "Epoch 4/10\n",
      "472/472 [==============================] - 3s 5ms/step - loss: 0.0773 - accuracy: 0.9806 - val_loss: 0.7079 - val_accuracy: 0.8204\n",
      "Epoch 5/10\n",
      "472/472 [==============================] - 2s 5ms/step - loss: 0.0359 - accuracy: 0.9931 - val_loss: 0.8037 - val_accuracy: 0.8114\n",
      "Epoch 6/10\n",
      "472/472 [==============================] - 2s 5ms/step - loss: 0.0214 - accuracy: 0.9964 - val_loss: 0.8513 - val_accuracy: 0.8101\n",
      "Epoch 7/10\n",
      "472/472 [==============================] - 2s 5ms/step - loss: 0.0167 - accuracy: 0.9967 - val_loss: 0.9135 - val_accuracy: 0.8056\n",
      "Epoch 8/10\n",
      "472/472 [==============================] - 3s 5ms/step - loss: 0.0141 - accuracy: 0.9976 - val_loss: 0.9683 - val_accuracy: 0.8042\n",
      "Epoch 9/10\n",
      "472/472 [==============================] - 3s 5ms/step - loss: 0.0136 - accuracy: 0.9969 - val_loss: 1.0228 - val_accuracy: 0.8077\n",
      "Epoch 10/10\n",
      "472/472 [==============================] - 2s 5ms/step - loss: 0.0243 - accuracy: 0.9938 - val_loss: 1.0601 - val_accuracy: 0.7995\n",
      "118/118 - 0s - loss: 1.0601 - accuracy: 0.7995 - 140ms/epoch - 1ms/step\n",
      "MLP Test Accuracy: 0.7995, Training Time: 26.50 seconds\n"
     ]
    }
   ],
   "source": [
    "mlp_model = build_mlp()\n",
    "mlp_model.compile(optimizer='adam', loss='categorical_crossentropy', metrics=['accuracy'])\n",
    "\n",
    "start_time = time.time()\n",
    "mlp_model.fit(X_train, y_train, epochs=10, validation_data=(X_test, y_test), verbose=1)\n",
    "mlp_training_time = time.time() - start_time\n",
    "\n",
    "mlp_test_loss, mlp_test_acc = mlp_model.evaluate(X_test, y_test, verbose=2)\n",
    "print(f\"MLP Test Accuracy: {mlp_test_acc:.4f}, Training Time: {mlp_training_time:.2f} seconds\")"
   ],
   "metadata": {
    "collapsed": false,
    "ExecuteTime": {
     "end_time": "2024-08-27T01:09:58.868694900Z",
     "start_time": "2024-08-27T01:09:32.116322800Z"
    }
   },
   "id": "bd732a9fa32a6ed1"
  }
 ],
 "metadata": {
  "kernelspec": {
   "display_name": "Python 3",
   "language": "python",
   "name": "python3"
  },
  "language_info": {
   "codemirror_mode": {
    "name": "ipython",
    "version": 2
   },
   "file_extension": ".py",
   "mimetype": "text/x-python",
   "name": "python",
   "nbconvert_exporter": "python",
   "pygments_lexer": "ipython2",
   "version": "2.7.6"
  }
 },
 "nbformat": 4,
 "nbformat_minor": 5
}
