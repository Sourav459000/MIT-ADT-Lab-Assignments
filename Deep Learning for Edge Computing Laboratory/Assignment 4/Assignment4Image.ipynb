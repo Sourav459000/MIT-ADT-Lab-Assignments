{
 "cells": [
  {
   "cell_type": "code",
   "execution_count": 1,
   "id": "initial_id",
   "metadata": {
    "collapsed": true,
    "ExecuteTime": {
     "end_time": "2024-08-26T09:29:36.645563Z",
     "start_time": "2024-08-26T09:29:13.451877Z"
    }
   },
   "outputs": [
    {
     "name": "stdout",
     "output_type": "stream",
     "text": [
      "WARNING:tensorflow:From C:\\Users\\soura\\venv\\Lib\\site-packages\\keras\\src\\losses.py:2976: The name tf.losses.sparse_softmax_cross_entropy is deprecated. Please use tf.compat.v1.losses.sparse_softmax_cross_entropy instead.\n"
     ]
    }
   ],
   "source": [
    "import tensorflow as tf\n",
    "from tensorflow.keras import datasets, layers, models\n",
    "import time"
   ]
  },
  {
   "cell_type": "code",
   "execution_count": 2,
   "outputs": [],
   "source": [
    "(x_train, y_train), (x_test, y_test) = datasets.cifar10.load_data()\n",
    "x_train, x_test = x_train / 255.0, x_test / 255.0  # Normalize to [0, 1]"
   ],
   "metadata": {
    "collapsed": false,
    "ExecuteTime": {
     "end_time": "2024-08-26T09:29:38.115211Z",
     "start_time": "2024-08-26T09:29:36.646561200Z"
    }
   },
   "id": "869a83c9ddc7974b"
  },
  {
   "cell_type": "code",
   "execution_count": 3,
   "outputs": [],
   "source": [
    "def build_cnn():\n",
    "    model = models.Sequential([\n",
    "        layers.Conv2D(32, (3, 3), activation='relu', input_shape=(32, 32, 3)),\n",
    "        layers.MaxPooling2D((2, 2)),\n",
    "        layers.Conv2D(64, (3, 3), activation='relu'),\n",
    "        layers.MaxPooling2D((2, 2)),\n",
    "        layers.Conv2D(64, (3, 3), activation='relu'),\n",
    "        layers.Flatten(),\n",
    "        layers.Dense(64, activation='relu'),\n",
    "        layers.Dropout(0.5),\n",
    "        layers.Dense(10, activation='softmax')\n",
    "    ])\n",
    "    return model"
   ],
   "metadata": {
    "collapsed": false,
    "ExecuteTime": {
     "end_time": "2024-08-26T09:29:38.123173Z",
     "start_time": "2024-08-26T09:29:38.118213900Z"
    }
   },
   "id": "2872fb3f52fe177"
  },
  {
   "cell_type": "code",
   "execution_count": 4,
   "outputs": [
    {
     "name": "stdout",
     "output_type": "stream",
     "text": [
      "WARNING:tensorflow:From C:\\Users\\soura\\venv\\Lib\\site-packages\\keras\\src\\backend.py:873: The name tf.get_default_graph is deprecated. Please use tf.compat.v1.get_default_graph instead.\n",
      "WARNING:tensorflow:From C:\\Users\\soura\\venv\\Lib\\site-packages\\keras\\src\\layers\\pooling\\max_pooling2d.py:161: The name tf.nn.max_pool is deprecated. Please use tf.nn.max_pool2d instead.\n",
      "WARNING:tensorflow:From C:\\Users\\soura\\venv\\Lib\\site-packages\\keras\\src\\optimizers\\__init__.py:309: The name tf.train.Optimizer is deprecated. Please use tf.compat.v1.train.Optimizer instead.\n",
      "Epoch 1/10\n",
      "WARNING:tensorflow:From C:\\Users\\soura\\venv\\Lib\\site-packages\\keras\\src\\utils\\tf_utils.py:492: The name tf.ragged.RaggedTensorValue is deprecated. Please use tf.compat.v1.ragged.RaggedTensorValue instead.\n",
      "WARNING:tensorflow:From C:\\Users\\soura\\venv\\Lib\\site-packages\\keras\\src\\engine\\base_layer_utils.py:384: The name tf.executing_eagerly_outside_functions is deprecated. Please use tf.compat.v1.executing_eagerly_outside_functions instead.\n",
      "1563/1563 [==============================] - 10s 6ms/step - loss: 1.7421 - accuracy: 0.3546 - val_loss: 1.3784 - val_accuracy: 0.4919\n",
      "Epoch 2/10\n",
      "1563/1563 [==============================] - 8s 5ms/step - loss: 1.4205 - accuracy: 0.4882 - val_loss: 1.2412 - val_accuracy: 0.5454\n",
      "Epoch 3/10\n",
      "1563/1563 [==============================] - 9s 5ms/step - loss: 1.2756 - accuracy: 0.5445 - val_loss: 1.0835 - val_accuracy: 0.6142\n",
      "Epoch 4/10\n",
      "1563/1563 [==============================] - 8s 5ms/step - loss: 1.1736 - accuracy: 0.5860 - val_loss: 1.0329 - val_accuracy: 0.6329\n",
      "Epoch 5/10\n",
      "1563/1563 [==============================] - 8s 5ms/step - loss: 1.0950 - accuracy: 0.6141 - val_loss: 0.9754 - val_accuracy: 0.6562\n",
      "Epoch 6/10\n",
      "1563/1563 [==============================] - 8s 5ms/step - loss: 1.0305 - accuracy: 0.6390 - val_loss: 0.9918 - val_accuracy: 0.6514\n",
      "Epoch 7/10\n",
      "1563/1563 [==============================] - 8s 5ms/step - loss: 0.9868 - accuracy: 0.6547 - val_loss: 0.9871 - val_accuracy: 0.6537\n",
      "Epoch 8/10\n",
      "1563/1563 [==============================] - 8s 5ms/step - loss: 0.9409 - accuracy: 0.6728 - val_loss: 0.9208 - val_accuracy: 0.6835\n",
      "Epoch 9/10\n",
      "1563/1563 [==============================] - 8s 5ms/step - loss: 0.9024 - accuracy: 0.6857 - val_loss: 0.9227 - val_accuracy: 0.6791\n",
      "Epoch 10/10\n",
      "1563/1563 [==============================] - 8s 5ms/step - loss: 0.8714 - accuracy: 0.6963 - val_loss: 0.8679 - val_accuracy: 0.6942\n",
      "313/313 - 1s - loss: 0.8679 - accuracy: 0.6942 - 556ms/epoch - 2ms/step\n",
      "CNN Test Accuracy: 0.6942, Training Time: 86.36 seconds\n"
     ]
    }
   ],
   "source": [
    "cnn_model = build_cnn()\n",
    "cnn_model.compile(optimizer='adam', loss='sparse_categorical_crossentropy', metrics=['accuracy'])\n",
    "\n",
    "start_time = time.time()\n",
    "cnn_model.fit(x_train, y_train, epochs=10, validation_data=(x_test, y_test), verbose=1)\n",
    "cnn_training_time = time.time() - start_time\n",
    "\n",
    "cnn_test_loss, cnn_test_acc = cnn_model.evaluate(x_test, y_test, verbose=2)\n",
    "print(f\"CNN Test Accuracy: {cnn_test_acc:.4f}, Training Time: {cnn_training_time:.2f} seconds\")"
   ],
   "metadata": {
    "collapsed": false,
    "ExecuteTime": {
     "end_time": "2024-08-26T09:31:05.759608300Z",
     "start_time": "2024-08-26T09:29:38.122171200Z"
    }
   },
   "id": "b779da416befbbc0"
  }
 ],
 "metadata": {
  "kernelspec": {
   "display_name": "Python 3",
   "language": "python",
   "name": "python3"
  },
  "language_info": {
   "codemirror_mode": {
    "name": "ipython",
    "version": 2
   },
   "file_extension": ".py",
   "mimetype": "text/x-python",
   "name": "python",
   "nbconvert_exporter": "python",
   "pygments_lexer": "ipython2",
   "version": "2.7.6"
  }
 },
 "nbformat": 4,
 "nbformat_minor": 5
}
