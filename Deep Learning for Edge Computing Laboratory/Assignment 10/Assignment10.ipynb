{
 "cells": [
  {
   "metadata": {
    "ExecuteTime": {
     "end_time": "2024-11-09T09:37:39.060160Z",
     "start_time": "2024-11-09T09:37:33.455734Z"
    }
   },
   "cell_type": "code",
   "source": [
    "import yfinance as yf\n",
    "\n",
    "# Download stock data for Apple (AAPL) for the past 5 years\n",
    "data = yf.download('AAPL', start='2018-01-01', end='2023-01-01')\n",
    "\n",
    "# Display the first few rows of the data\n",
    "print(data.head())"
   ],
   "id": "270e5c1bf6a7e4f1",
   "outputs": [
    {
     "name": "stderr",
     "output_type": "stream",
     "text": [
      "[*********************100%***********************]  1 of 1 completed"
     ]
    },
    {
     "name": "stdout",
     "output_type": "stream",
     "text": [
      "Price                      Adj Close      Close       High        Low  \\\n",
      "Ticker                          AAPL       AAPL       AAPL       AAPL   \n",
      "Date                                                                    \n",
      "2018-01-02 00:00:00+00:00  40.524342  43.064999  43.075001  42.314999   \n",
      "2018-01-03 00:00:00+00:00  40.517292  43.057499  43.637501  42.990002   \n",
      "2018-01-04 00:00:00+00:00  40.705486  43.257500  43.367500  43.020000   \n",
      "2018-01-05 00:00:00+00:00  41.168930  43.750000  43.842499  43.262501   \n",
      "2018-01-08 00:00:00+00:00  41.016022  43.587502  43.902500  43.482498   \n",
      "\n",
      "Price                           Open     Volume  \n",
      "Ticker                          AAPL       AAPL  \n",
      "Date                                             \n",
      "2018-01-02 00:00:00+00:00  42.540001  102223600  \n",
      "2018-01-03 00:00:00+00:00  43.132500  118071600  \n",
      "2018-01-04 00:00:00+00:00  43.134998   89738400  \n",
      "2018-01-05 00:00:00+00:00  43.360001   94640000  \n",
      "2018-01-08 00:00:00+00:00  43.587502   82271200  \n"
     ]
    },
    {
     "name": "stderr",
     "output_type": "stream",
     "text": [
      "\n"
     ]
    }
   ],
   "execution_count": 2
  },
  {
   "metadata": {
    "ExecuteTime": {
     "end_time": "2024-11-09T09:37:51.302692Z",
     "start_time": "2024-11-09T09:37:51.293026Z"
    }
   },
   "cell_type": "code",
   "source": [
    "import numpy as np\n",
    "import pandas as pd\n",
    "from sklearn.model_selection import train_test_split\n",
    "from sklearn.preprocessing import MinMaxScaler\n",
    "\n",
    "# Use the 'Close' price for prediction\n",
    "prices = data['Close'].values\n",
    "\n",
    "# Normalize the data\n",
    "scaler = MinMaxScaler(feature_range=(0, 1))\n",
    "prices = scaler.fit_transform(prices.reshape(-1, 1))\n",
    "\n",
    "# Create sequences of data for RNN input\n",
    "def create_sequences(data, sequence_length):\n",
    "    X, y = [], []\n",
    "    for i in range(len(data) - sequence_length):\n",
    "        X.append(data[i:i + sequence_length])\n",
    "        y.append(data[i + sequence_length])\n",
    "    return np.array(X), np.array(y)\n",
    "\n",
    "sequence_length = 60  # Use the last 60 days to predict the next day\n",
    "X, y = create_sequences(prices, sequence_length)\n",
    "X_train, X_test, y_train, y_test = train_test_split(X, y, test_size=0.2, shuffle=False)"
   ],
   "id": "1763fe4903181b0a",
   "outputs": [],
   "execution_count": 3
  },
  {
   "metadata": {
    "ExecuteTime": {
     "end_time": "2024-11-09T09:38:13.342968Z",
     "start_time": "2024-11-09T09:38:13.054817Z"
    }
   },
   "cell_type": "code",
   "source": [
    "from tensorflow.keras.models import Sequential\n",
    "from tensorflow.keras.layers import LSTM, Dense\n",
    "\n",
    "rnn_model = Sequential([\n",
    "    LSTM(50, activation='relu', input_shape=(X_train.shape[1], 1)),\n",
    "    Dense(1)\n",
    "])\n",
    "\n",
    "rnn_model.compile(optimizer='adam', loss='mean_absolute_error')"
   ],
   "id": "a04485e718256bd5",
   "outputs": [
    {
     "name": "stdout",
     "output_type": "stream",
     "text": [
      "WARNING:tensorflow:From C:\\Users\\soura\\venv\\Lib\\site-packages\\keras\\src\\layers\\rnn\\lstm.py:148: The name tf.executing_eagerly_outside_functions is deprecated. Please use tf.compat.v1.executing_eagerly_outside_functions instead.\n",
      "\n",
      "WARNING:tensorflow:From C:\\Users\\soura\\venv\\Lib\\site-packages\\keras\\src\\optimizers\\__init__.py:309: The name tf.train.Optimizer is deprecated. Please use tf.compat.v1.train.Optimizer instead.\n",
      "\n"
     ]
    }
   ],
   "execution_count": 4
  },
  {
   "metadata": {
    "ExecuteTime": {
     "end_time": "2024-11-09T09:38:27.489484Z",
     "start_time": "2024-11-09T09:38:20.596073Z"
    }
   },
   "cell_type": "code",
   "source": [
    "# Reshape X_train and X_test for RNN input\n",
    "X_train = X_train.reshape((X_train.shape[0], X_train.shape[1], 1))\n",
    "X_test = X_test.reshape((X_test.shape[0], X_test.shape[1], 1))\n",
    "\n",
    "rnn_model.fit(X_train, y_train, epochs=10, batch_size=16, validation_data=(X_test, y_test))"
   ],
   "id": "d584119b65239ce0",
   "outputs": [
    {
     "name": "stdout",
     "output_type": "stream",
     "text": [
      "Epoch 1/10\n",
      "WARNING:tensorflow:From C:\\Users\\soura\\venv\\Lib\\site-packages\\keras\\src\\utils\\tf_utils.py:492: The name tf.ragged.RaggedTensorValue is deprecated. Please use tf.compat.v1.ragged.RaggedTensorValue instead.\n",
      "\n",
      "60/60 [==============================] - 2s 12ms/step - loss: 0.0741 - val_loss: 0.0875\n",
      "Epoch 2/10\n",
      "60/60 [==============================] - 1s 9ms/step - loss: 0.0219 - val_loss: 0.0384\n",
      "Epoch 3/10\n",
      "60/60 [==============================] - 1s 9ms/step - loss: 0.0161 - val_loss: 0.0368\n",
      "Epoch 4/10\n",
      "60/60 [==============================] - 1s 9ms/step - loss: 0.0152 - val_loss: 0.0307\n",
      "Epoch 5/10\n",
      "60/60 [==============================] - 1s 9ms/step - loss: 0.0152 - val_loss: 0.0347\n",
      "Epoch 6/10\n",
      "60/60 [==============================] - 1s 9ms/step - loss: 0.0149 - val_loss: 0.0331\n",
      "Epoch 7/10\n",
      "60/60 [==============================] - 1s 9ms/step - loss: 0.0155 - val_loss: 0.0288\n",
      "Epoch 8/10\n",
      "60/60 [==============================] - 1s 9ms/step - loss: 0.0145 - val_loss: 0.0410\n",
      "Epoch 9/10\n",
      "60/60 [==============================] - 1s 9ms/step - loss: 0.0141 - val_loss: 0.0322\n",
      "Epoch 10/10\n",
      "60/60 [==============================] - 1s 9ms/step - loss: 0.0139 - val_loss: 0.0272\n"
     ]
    },
    {
     "data": {
      "text/plain": [
       "<keras.src.callbacks.History at 0x1f737d68510>"
      ]
     },
     "execution_count": 5,
     "metadata": {},
     "output_type": "execute_result"
    }
   ],
   "execution_count": 5
  },
  {
   "metadata": {
    "ExecuteTime": {
     "end_time": "2024-11-09T09:38:39.347857Z",
     "start_time": "2024-11-09T09:38:38.922985Z"
    }
   },
   "cell_type": "code",
   "source": [
    "from sklearn.linear_model import LinearRegression\n",
    "from sklearn.metrics import mean_absolute_error\n",
    "\n",
    "# Flatten the training and test data\n",
    "X_train_lr = X_train.reshape((X_train.shape[0], -1))\n",
    "X_test_lr = X_test.reshape((X_test.shape[0], -1))\n",
    "\n",
    "# Define and train the linear regression model\n",
    "linear_model = LinearRegression()\n",
    "linear_model.fit(X_train_lr, y_train)"
   ],
   "id": "d57e4793027f86e7",
   "outputs": [
    {
     "data": {
      "text/plain": [
       "LinearRegression()"
      ],
      "text/html": [
       "<style>#sk-container-id-1 {color: black;}#sk-container-id-1 pre{padding: 0;}#sk-container-id-1 div.sk-toggleable {background-color: white;}#sk-container-id-1 label.sk-toggleable__label {cursor: pointer;display: block;width: 100%;margin-bottom: 0;padding: 0.3em;box-sizing: border-box;text-align: center;}#sk-container-id-1 label.sk-toggleable__label-arrow:before {content: \"▸\";float: left;margin-right: 0.25em;color: #696969;}#sk-container-id-1 label.sk-toggleable__label-arrow:hover:before {color: black;}#sk-container-id-1 div.sk-estimator:hover label.sk-toggleable__label-arrow:before {color: black;}#sk-container-id-1 div.sk-toggleable__content {max-height: 0;max-width: 0;overflow: hidden;text-align: left;background-color: #f0f8ff;}#sk-container-id-1 div.sk-toggleable__content pre {margin: 0.2em;color: black;border-radius: 0.25em;background-color: #f0f8ff;}#sk-container-id-1 input.sk-toggleable__control:checked~div.sk-toggleable__content {max-height: 200px;max-width: 100%;overflow: auto;}#sk-container-id-1 input.sk-toggleable__control:checked~label.sk-toggleable__label-arrow:before {content: \"▾\";}#sk-container-id-1 div.sk-estimator input.sk-toggleable__control:checked~label.sk-toggleable__label {background-color: #d4ebff;}#sk-container-id-1 div.sk-label input.sk-toggleable__control:checked~label.sk-toggleable__label {background-color: #d4ebff;}#sk-container-id-1 input.sk-hidden--visually {border: 0;clip: rect(1px 1px 1px 1px);clip: rect(1px, 1px, 1px, 1px);height: 1px;margin: -1px;overflow: hidden;padding: 0;position: absolute;width: 1px;}#sk-container-id-1 div.sk-estimator {font-family: monospace;background-color: #f0f8ff;border: 1px dotted black;border-radius: 0.25em;box-sizing: border-box;margin-bottom: 0.5em;}#sk-container-id-1 div.sk-estimator:hover {background-color: #d4ebff;}#sk-container-id-1 div.sk-parallel-item::after {content: \"\";width: 100%;border-bottom: 1px solid gray;flex-grow: 1;}#sk-container-id-1 div.sk-label:hover label.sk-toggleable__label {background-color: #d4ebff;}#sk-container-id-1 div.sk-serial::before {content: \"\";position: absolute;border-left: 1px solid gray;box-sizing: border-box;top: 0;bottom: 0;left: 50%;z-index: 0;}#sk-container-id-1 div.sk-serial {display: flex;flex-direction: column;align-items: center;background-color: white;padding-right: 0.2em;padding-left: 0.2em;position: relative;}#sk-container-id-1 div.sk-item {position: relative;z-index: 1;}#sk-container-id-1 div.sk-parallel {display: flex;align-items: stretch;justify-content: center;background-color: white;position: relative;}#sk-container-id-1 div.sk-item::before, #sk-container-id-1 div.sk-parallel-item::before {content: \"\";position: absolute;border-left: 1px solid gray;box-sizing: border-box;top: 0;bottom: 0;left: 50%;z-index: -1;}#sk-container-id-1 div.sk-parallel-item {display: flex;flex-direction: column;z-index: 1;position: relative;background-color: white;}#sk-container-id-1 div.sk-parallel-item:first-child::after {align-self: flex-end;width: 50%;}#sk-container-id-1 div.sk-parallel-item:last-child::after {align-self: flex-start;width: 50%;}#sk-container-id-1 div.sk-parallel-item:only-child::after {width: 0;}#sk-container-id-1 div.sk-dashed-wrapped {border: 1px dashed gray;margin: 0 0.4em 0.5em 0.4em;box-sizing: border-box;padding-bottom: 0.4em;background-color: white;}#sk-container-id-1 div.sk-label label {font-family: monospace;font-weight: bold;display: inline-block;line-height: 1.2em;}#sk-container-id-1 div.sk-label-container {text-align: center;}#sk-container-id-1 div.sk-container {/* jupyter's `normalize.less` sets `[hidden] { display: none; }` but bootstrap.min.css set `[hidden] { display: none !important; }` so we also need the `!important` here to be able to override the default hidden behavior on the sphinx rendered scikit-learn.org. See: https://github.com/scikit-learn/scikit-learn/issues/21755 */display: inline-block !important;position: relative;}#sk-container-id-1 div.sk-text-repr-fallback {display: none;}</style><div id=\"sk-container-id-1\" class=\"sk-top-container\"><div class=\"sk-text-repr-fallback\"><pre>LinearRegression()</pre><b>In a Jupyter environment, please rerun this cell to show the HTML representation or trust the notebook. <br />On GitHub, the HTML representation is unable to render, please try loading this page with nbviewer.org.</b></div><div class=\"sk-container\" hidden><div class=\"sk-item\"><div class=\"sk-estimator sk-toggleable\"><input class=\"sk-toggleable__control sk-hidden--visually\" id=\"sk-estimator-id-1\" type=\"checkbox\" checked><label for=\"sk-estimator-id-1\" class=\"sk-toggleable__label sk-toggleable__label-arrow\">LinearRegression</label><div class=\"sk-toggleable__content\"><pre>LinearRegression()</pre></div></div></div></div></div>"
      ]
     },
     "execution_count": 6,
     "metadata": {},
     "output_type": "execute_result"
    }
   ],
   "execution_count": 6
  },
  {
   "metadata": {
    "ExecuteTime": {
     "end_time": "2024-11-09T09:38:46.827761Z",
     "start_time": "2024-11-09T09:38:46.605802Z"
    }
   },
   "cell_type": "code",
   "source": [
    "# Evaluate RNN model\n",
    "rnn_predictions = rnn_model.predict(X_test)\n",
    "rnn_mae = mean_absolute_error(y_test, rnn_predictions)\n",
    "\n",
    "# Evaluate Linear Regression model\n",
    "lr_predictions = linear_model.predict(X_test_lr)\n",
    "lr_mae = mean_absolute_error(y_test, lr_predictions)\n",
    "\n",
    "# Print the results\n",
    "print(f\"RNN Model MAE: {rnn_mae}\")\n",
    "print(f\"Linear Regression Model MAE: {lr_mae}\")"
   ],
   "id": "69c1fdbefae11884",
   "outputs": [
    {
     "name": "stdout",
     "output_type": "stream",
     "text": [
      "8/8 [==============================] - 0s 4ms/step\n",
      "RNN Model MAE: 0.027150507152291673\n",
      "Linear Regression Model MAE: 0.019825266386765957\n"
     ]
    }
   ],
   "execution_count": 7
  }
 ],
 "metadata": {
  "kernelspec": {
   "display_name": "Python 3",
   "language": "python",
   "name": "python3"
  },
  "language_info": {
   "codemirror_mode": {
    "name": "ipython",
    "version": 2
   },
   "file_extension": ".py",
   "mimetype": "text/x-python",
   "name": "python",
   "nbconvert_exporter": "python",
   "pygments_lexer": "ipython2",
   "version": "2.7.6"
  }
 },
 "nbformat": 4,
 "nbformat_minor": 5
}
