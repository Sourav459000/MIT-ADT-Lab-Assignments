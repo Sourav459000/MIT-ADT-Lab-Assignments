{
 "cells": [
  {
   "cell_type": "code",
   "execution_count": 1,
   "outputs": [
    {
     "name": "stdout",
     "output_type": "stream",
     "text": [
      "WARNING:tensorflow:From C:\\Users\\soura\\venv\\Lib\\site-packages\\keras\\src\\losses.py:2976: The name tf.losses.sparse_softmax_cross_entropy is deprecated. Please use tf.compat.v1.losses.sparse_softmax_cross_entropy instead.\n"
     ]
    }
   ],
   "source": [
    "import tensorflow as tf\n",
    "from tensorflow.keras import datasets, layers, models\n",
    "import matplotlib.pyplot as plt\n",
    "import time"
   ],
   "metadata": {
    "collapsed": false,
    "ExecuteTime": {
     "end_time": "2024-08-26T09:10:48.196909100Z",
     "start_time": "2024-08-26T09:10:24.774394100Z"
    }
   },
   "id": "a4302db759de4216"
  },
  {
   "cell_type": "code",
   "execution_count": 2,
   "outputs": [
    {
     "name": "stdout",
     "output_type": "stream",
     "text": [
      "Downloading data from https://storage.googleapis.com/tensorflow/tf-keras-datasets/mnist.npz\n",
      "11490434/11490434 [==============================] - 8s 1us/step\n"
     ]
    }
   ],
   "source": [
    "(x_train, y_train), (x_test, y_test) = datasets.mnist.load_data()\n",
    "\n",
    "x_train, x_test = x_train / 255.0, x_test / 255.0\n",
    "\n",
    "x_train = x_train.reshape((x_train.shape[0], 28 * 28))\n",
    "x_test = x_test.reshape((x_test.shape[0], 28 * 28))"
   ],
   "metadata": {
    "collapsed": false,
    "ExecuteTime": {
     "end_time": "2024-08-26T09:10:57.316935800Z",
     "start_time": "2024-08-26T09:10:48.192909300Z"
    }
   },
   "id": "84cb7eeb7cd2b00a"
  },
  {
   "cell_type": "code",
   "execution_count": 3,
   "outputs": [],
   "source": [
    "def build_model():\n",
    "    model = models.Sequential([\n",
    "        layers.Dense(128, activation='relu', input_shape=(784,)),\n",
    "        layers.Dense(64, activation='relu'),\n",
    "        layers.Dense(10, activation='softmax')\n",
    "    ])\n",
    "    return model"
   ],
   "metadata": {
    "collapsed": false,
    "ExecuteTime": {
     "end_time": "2024-08-26T09:10:57.321943900Z",
     "start_time": "2024-08-26T09:10:57.315434400Z"
    }
   },
   "id": "2dd43bde513fbb7b"
  },
  {
   "cell_type": "code",
   "execution_count": 4,
   "outputs": [
    {
     "name": "stdout",
     "output_type": "stream",
     "text": [
      "WARNING:tensorflow:From C:\\Users\\soura\\venv\\Lib\\site-packages\\keras\\src\\backend.py:873: The name tf.get_default_graph is deprecated. Please use tf.compat.v1.get_default_graph instead.\n",
      "WARNING:tensorflow:From C:\\Users\\soura\\venv\\Lib\\site-packages\\keras\\src\\utils\\tf_utils.py:492: The name tf.ragged.RaggedTensorValue is deprecated. Please use tf.compat.v1.ragged.RaggedTensorValue instead.\n",
      "WARNING:tensorflow:From C:\\Users\\soura\\venv\\Lib\\site-packages\\keras\\src\\engine\\base_layer_utils.py:384: The name tf.executing_eagerly_outside_functions is deprecated. Please use tf.compat.v1.executing_eagerly_outside_functions instead.\n",
      "LR: 0.001, Batch Size: 32, Optimizer: sgd --> Accuracy: 0.9106, Training Time: 18.82 sec\n",
      "LR: 0.001, Batch Size: 32, Optimizer: adam --> Accuracy: 0.9766, Training Time: 20.29 sec\n",
      "LR: 0.001, Batch Size: 32, Optimizer: rmsprop --> Accuracy: 0.9775, Training Time: 19.05 sec\n",
      "LR: 0.001, Batch Size: 64, Optimizer: sgd --> Accuracy: 0.8940, Training Time: 10.87 sec\n",
      "LR: 0.001, Batch Size: 64, Optimizer: adam --> Accuracy: 0.9778, Training Time: 12.09 sec\n",
      "LR: 0.001, Batch Size: 64, Optimizer: rmsprop --> Accuracy: 0.9814, Training Time: 11.30 sec\n",
      "LR: 0.001, Batch Size: 128, Optimizer: sgd --> Accuracy: 0.8463, Training Time: 6.59 sec\n",
      "LR: 0.001, Batch Size: 128, Optimizer: adam --> Accuracy: 0.9739, Training Time: 7.41 sec\n",
      "LR: 0.001, Batch Size: 128, Optimizer: rmsprop --> Accuracy: 0.9768, Training Time: 7.11 sec\n",
      "LR: 0.01, Batch Size: 32, Optimizer: sgd --> Accuracy: 0.9645, Training Time: 18.27 sec\n",
      "LR: 0.01, Batch Size: 32, Optimizer: adam --> Accuracy: 0.9608, Training Time: 20.48 sec\n",
      "LR: 0.01, Batch Size: 32, Optimizer: rmsprop --> Accuracy: 0.9383, Training Time: 19.81 sec\n",
      "LR: 0.01, Batch Size: 64, Optimizer: sgd --> Accuracy: 0.9488, Training Time: 10.58 sec\n",
      "LR: 0.01, Batch Size: 64, Optimizer: adam --> Accuracy: 0.9691, Training Time: 12.06 sec\n",
      "LR: 0.01, Batch Size: 64, Optimizer: rmsprop --> Accuracy: 0.9555, Training Time: 11.48 sec\n",
      "LR: 0.01, Batch Size: 128, Optimizer: sgd --> Accuracy: 0.9369, Training Time: 6.62 sec\n",
      "LR: 0.01, Batch Size: 128, Optimizer: adam --> Accuracy: 0.9715, Training Time: 7.51 sec\n",
      "LR: 0.01, Batch Size: 128, Optimizer: rmsprop --> Accuracy: 0.9657, Training Time: 7.26 sec\n",
      "LR: 0.1, Batch Size: 32, Optimizer: sgd --> Accuracy: 0.9750, Training Time: 18.77 sec\n",
      "LR: 0.1, Batch Size: 32, Optimizer: adam --> Accuracy: 0.1970, Training Time: 20.65 sec\n",
      "LR: 0.1, Batch Size: 32, Optimizer: rmsprop --> Accuracy: 0.2896, Training Time: 19.76 sec\n",
      "LR: 0.1, Batch Size: 64, Optimizer: sgd --> Accuracy: 0.9762, Training Time: 10.37 sec\n",
      "LR: 0.1, Batch Size: 64, Optimizer: adam --> Accuracy: 0.2898, Training Time: 11.97 sec\n",
      "LR: 0.1, Batch Size: 64, Optimizer: rmsprop --> Accuracy: 0.5132, Training Time: 11.55 sec\n",
      "LR: 0.1, Batch Size: 128, Optimizer: sgd --> Accuracy: 0.9723, Training Time: 6.68 sec\n",
      "LR: 0.1, Batch Size: 128, Optimizer: adam --> Accuracy: 0.4666, Training Time: 7.34 sec\n",
      "LR: 0.1, Batch Size: 128, Optimizer: rmsprop --> Accuracy: 0.7565, Training Time: 7.06 sec\n"
     ]
    }
   ],
   "source": [
    "learning_rates = [0.001, 0.01, 0.1]\n",
    "batch_sizes = [32, 64, 128]\n",
    "optimizers = ['sgd', 'adam', 'rmsprop']\n",
    "\n",
    "results = []\n",
    "\n",
    "for lr in learning_rates:\n",
    "    for batch_size in batch_sizes:\n",
    "        for opt in optimizers:\n",
    "            model = build_model()\n",
    "\n",
    "            if opt == 'sgd':\n",
    "                optimizer = tf.keras.optimizers.SGD(learning_rate=lr)\n",
    "            elif opt == 'adam':\n",
    "                optimizer = tf.keras.optimizers.Adam(learning_rate=lr)\n",
    "            elif opt == 'rmsprop':\n",
    "                optimizer = tf.keras.optimizers.RMSprop(learning_rate=lr)\n",
    "\n",
    "            model.compile(optimizer=optimizer,\n",
    "                          loss='sparse_categorical_crossentropy',\n",
    "                          metrics=['accuracy'])\n",
    "\n",
    "            start_time = time.time()\n",
    "\n",
    "            history = model.fit(x_train, y_train, epochs=10, batch_size=batch_size, validation_data=(x_test, y_test), verbose=0)\n",
    "\n",
    "            end_time = time.time()\n",
    "\n",
    "            training_time = end_time - start_time\n",
    "\n",
    "            final_accuracy = history.history['val_accuracy'][-1]\n",
    "\n",
    "            results.append((lr, batch_size, opt, final_accuracy, training_time))\n",
    "\n",
    "            print(f'LR: {lr}, Batch Size: {batch_size}, Optimizer: {opt} --> Accuracy: {final_accuracy:.4f}, Training Time: {training_time:.2f} sec')"
   ],
   "metadata": {
    "collapsed": false,
    "ExecuteTime": {
     "end_time": "2024-08-26T09:16:40.091081Z",
     "start_time": "2024-08-26T09:10:57.322943600Z"
    }
   },
   "id": "70a8fbd276f69cff"
  },
  {
   "cell_type": "code",
   "execution_count": 5,
   "outputs": [
    {
     "name": "stdout",
     "output_type": "stream",
     "text": [
      "\n",
      "Summary of Results:\n",
      "    Learning Rate  Batch Size Optimizer  Accuracy  Training Time\n",
      "0           0.001          32       sgd    0.9106      18.817999\n",
      "1           0.001          32      adam    0.9766      20.285998\n",
      "2           0.001          32   rmsprop    0.9775      19.052546\n",
      "3           0.001          64       sgd    0.8940      10.871696\n",
      "4           0.001          64      adam    0.9778      12.086142\n",
      "5           0.001          64   rmsprop    0.9814      11.297637\n",
      "6           0.001         128       sgd    0.8463       6.594794\n",
      "7           0.001         128      adam    0.9739       7.413760\n",
      "8           0.001         128   rmsprop    0.9768       7.111979\n",
      "9           0.010          32       sgd    0.9645      18.269141\n",
      "10          0.010          32      adam    0.9608      20.482293\n",
      "11          0.010          32   rmsprop    0.9383      19.807953\n",
      "12          0.010          64       sgd    0.9488      10.579912\n",
      "13          0.010          64      adam    0.9691      12.063931\n",
      "14          0.010          64   rmsprop    0.9555      11.477492\n",
      "15          0.010         128       sgd    0.9369       6.615914\n",
      "16          0.010         128      adam    0.9715       7.505413\n",
      "17          0.010         128   rmsprop    0.9657       7.256323\n",
      "18          0.100          32       sgd    0.9750      18.774578\n",
      "19          0.100          32      adam    0.1970      20.654481\n",
      "20          0.100          32   rmsprop    0.2896      19.760151\n",
      "21          0.100          64       sgd    0.9762      10.374712\n",
      "22          0.100          64      adam    0.2898      11.967957\n",
      "23          0.100          64   rmsprop    0.5132      11.550892\n",
      "24          0.100         128       sgd    0.9723       6.679245\n",
      "25          0.100         128      adam    0.4666       7.344857\n",
      "26          0.100         128   rmsprop    0.7565       7.064141\n"
     ]
    }
   ],
   "source": [
    "import pandas as pd\n",
    "\n",
    "df_results = pd.DataFrame(results, columns=['Learning Rate', 'Batch Size', 'Optimizer', 'Accuracy', 'Training Time'])\n",
    "print(\"\\nSummary of Results:\")\n",
    "print(df_results)"
   ],
   "metadata": {
    "collapsed": false,
    "ExecuteTime": {
     "end_time": "2024-08-26T09:16:40.117232100Z",
     "start_time": "2024-08-26T09:16:40.088569300Z"
    }
   },
   "id": "bee30fd4381ebf7"
  }
 ],
 "metadata": {
  "kernelspec": {
   "display_name": "Python 3",
   "language": "python",
   "name": "python3"
  },
  "language_info": {
   "codemirror_mode": {
    "name": "ipython",
    "version": 2
   },
   "file_extension": ".py",
   "mimetype": "text/x-python",
   "name": "python",
   "nbconvert_exporter": "python",
   "pygments_lexer": "ipython2",
   "version": "2.7.6"
  }
 },
 "nbformat": 4,
 "nbformat_minor": 5
}
