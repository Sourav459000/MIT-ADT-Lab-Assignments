{
 "cells": [
  {
   "cell_type": "code",
   "execution_count": 1,
   "id": "initial_id",
   "metadata": {
    "collapsed": true,
    "ExecuteTime": {
     "end_time": "2024-07-29T03:51:34.327829800Z",
     "start_time": "2024-07-29T03:51:14.898341400Z"
    }
   },
   "outputs": [
    {
     "name": "stdout",
     "output_type": "stream",
     "text": [
      "WARNING:tensorflow:From C:\\Users\\soura\\venv\\Lib\\site-packages\\keras\\src\\losses.py:2976: The name tf.losses.sparse_softmax_cross_entropy is deprecated. Please use tf.compat.v1.losses.sparse_softmax_cross_entropy instead.\n"
     ]
    }
   ],
   "source": [
    "import tensorflow as tf\n",
    "from tensorflow.keras.datasets import cifar10\n",
    "from tensorflow.keras.utils import to_categorical\n",
    "from tensorflow.keras.preprocessing.image import ImageDataGenerator\n",
    "\n",
    "# Load the CIFAR-10 dataset\n",
    "(x_train, y_train), (x_test, y_test) = cifar10.load_data()\n",
    "\n",
    "# Normalize pixel values to be between 0 and 1\n",
    "x_train = x_train.astype('float32') / 255.0\n",
    "x_test = x_test.astype('float32') / 255.0\n",
    "\n",
    "# Convert class vectors to binary class matrices\n",
    "y_train = to_categorical(y_train, 10)\n",
    "y_test = to_categorical(y_test, 10)"
   ]
  },
  {
   "cell_type": "code",
   "execution_count": 2,
   "outputs": [],
   "source": [
    "from tensorflow.keras.models import Sequential\n",
    "from tensorflow.keras.layers import Conv2D, MaxPooling2D, Flatten, Dense, Dropout\n",
    "\n",
    "def create_cnn_model():\n",
    "    model = Sequential()\n",
    "    \n",
    "    # Convolutional layers\n",
    "    model.add(Conv2D(32, (3, 3), activation='relu', input_shape=(32, 32, 3)))\n",
    "    model.add(MaxPooling2D((2, 2)))\n",
    "    \n",
    "    model.add(Conv2D(64, (3, 3), activation='relu'))\n",
    "    model.add(MaxPooling2D((2, 2)))\n",
    "    \n",
    "    model.add(Conv2D(128, (3, 3), activation='relu'))\n",
    "    model.add(MaxPooling2D((2, 2)))\n",
    "    \n",
    "    # Fully connected layers\n",
    "    model.add(Flatten())\n",
    "    model.add(Dense(128, activation='relu'))\n",
    "    model.add(Dropout(0.5))\n",
    "    model.add(Dense(10, activation='softmax'))\n",
    "    \n",
    "    return model"
   ],
   "metadata": {
    "collapsed": false,
    "ExecuteTime": {
     "end_time": "2024-07-29T03:51:34.336944200Z",
     "start_time": "2024-07-29T03:51:34.330833200Z"
    }
   },
   "id": "dea7a85d72c6e9d5"
  },
  {
   "cell_type": "code",
   "execution_count": 3,
   "outputs": [
    {
     "name": "stdout",
     "output_type": "stream",
     "text": [
      "WARNING:tensorflow:From C:\\Users\\soura\\venv\\Lib\\site-packages\\keras\\src\\backend.py:873: The name tf.get_default_graph is deprecated. Please use tf.compat.v1.get_default_graph instead.\n",
      "WARNING:tensorflow:From C:\\Users\\soura\\venv\\Lib\\site-packages\\keras\\src\\layers\\pooling\\max_pooling2d.py:161: The name tf.nn.max_pool is deprecated. Please use tf.nn.max_pool2d instead.\n",
      "WARNING:tensorflow:From C:\\Users\\soura\\venv\\Lib\\site-packages\\keras\\src\\optimizers\\__init__.py:309: The name tf.train.Optimizer is deprecated. Please use tf.compat.v1.train.Optimizer instead.\n"
     ]
    }
   ],
   "source": [
    "model = create_cnn_model()\n",
    "model.compile(optimizer='adam', loss='categorical_crossentropy', metrics=['accuracy'])"
   ],
   "metadata": {
    "collapsed": false,
    "ExecuteTime": {
     "end_time": "2024-07-29T03:51:34.875343100Z",
     "start_time": "2024-07-29T03:51:34.336944200Z"
    }
   },
   "id": "f190f7bfe73fc13b"
  },
  {
   "cell_type": "code",
   "execution_count": 4,
   "outputs": [
    {
     "name": "stdout",
     "output_type": "stream",
     "text": [
      "Epoch 1/50\n",
      "WARNING:tensorflow:From C:\\Users\\soura\\venv\\Lib\\site-packages\\keras\\src\\utils\\tf_utils.py:492: The name tf.ragged.RaggedTensorValue is deprecated. Please use tf.compat.v1.ragged.RaggedTensorValue instead.\n",
      "WARNING:tensorflow:From C:\\Users\\soura\\venv\\Lib\\site-packages\\keras\\src\\engine\\base_layer_utils.py:384: The name tf.executing_eagerly_outside_functions is deprecated. Please use tf.compat.v1.executing_eagerly_outside_functions instead.\n",
      "782/782 [==============================] - 17s 20ms/step - loss: 1.8053 - accuracy: 0.3240 - val_loss: 1.4179 - val_accuracy: 0.4793\n",
      "Epoch 2/50\n",
      "782/782 [==============================] - 16s 21ms/step - loss: 1.4902 - accuracy: 0.4571 - val_loss: 1.2425 - val_accuracy: 0.5485\n",
      "Epoch 3/50\n",
      "782/782 [==============================] - 16s 20ms/step - loss: 1.3719 - accuracy: 0.5094 - val_loss: 1.1472 - val_accuracy: 0.5875\n",
      "Epoch 4/50\n",
      "782/782 [==============================] - 16s 20ms/step - loss: 1.2899 - accuracy: 0.5425 - val_loss: 1.0661 - val_accuracy: 0.6224\n",
      "Epoch 5/50\n",
      "782/782 [==============================] - 16s 20ms/step - loss: 1.2252 - accuracy: 0.5663 - val_loss: 1.0555 - val_accuracy: 0.6196\n",
      "Epoch 6/50\n",
      "782/782 [==============================] - 16s 20ms/step - loss: 1.1713 - accuracy: 0.5866 - val_loss: 1.0312 - val_accuracy: 0.6306\n",
      "Epoch 7/50\n",
      "782/782 [==============================] - 16s 20ms/step - loss: 1.1297 - accuracy: 0.6043 - val_loss: 0.9878 - val_accuracy: 0.6504\n",
      "Epoch 8/50\n",
      "782/782 [==============================] - 16s 20ms/step - loss: 1.0912 - accuracy: 0.6187 - val_loss: 0.9646 - val_accuracy: 0.6634\n",
      "Epoch 9/50\n",
      "782/782 [==============================] - 16s 20ms/step - loss: 1.0674 - accuracy: 0.6270 - val_loss: 0.9847 - val_accuracy: 0.6641\n",
      "Epoch 10/50\n",
      "782/782 [==============================] - 16s 20ms/step - loss: 1.0432 - accuracy: 0.6348 - val_loss: 0.8806 - val_accuracy: 0.6932\n",
      "Epoch 11/50\n",
      "782/782 [==============================] - 16s 21ms/step - loss: 1.0215 - accuracy: 0.6453 - val_loss: 0.8913 - val_accuracy: 0.6832\n",
      "Epoch 12/50\n",
      "782/782 [==============================] - 16s 20ms/step - loss: 0.9973 - accuracy: 0.6551 - val_loss: 0.8999 - val_accuracy: 0.6929\n",
      "Epoch 13/50\n",
      "782/782 [==============================] - 16s 20ms/step - loss: 0.9786 - accuracy: 0.6617 - val_loss: 0.8660 - val_accuracy: 0.6978\n",
      "Epoch 14/50\n",
      "782/782 [==============================] - 19s 25ms/step - loss: 0.9666 - accuracy: 0.6641 - val_loss: 0.8211 - val_accuracy: 0.7163\n",
      "Epoch 15/50\n",
      "782/782 [==============================] - 16s 21ms/step - loss: 0.9455 - accuracy: 0.6726 - val_loss: 0.8303 - val_accuracy: 0.7143\n",
      "Epoch 16/50\n",
      "782/782 [==============================] - 16s 21ms/step - loss: 0.9310 - accuracy: 0.6786 - val_loss: 0.9178 - val_accuracy: 0.6951\n",
      "Epoch 17/50\n",
      "782/782 [==============================] - 16s 20ms/step - loss: 0.9218 - accuracy: 0.6804 - val_loss: 0.8176 - val_accuracy: 0.7188\n",
      "Epoch 18/50\n",
      "782/782 [==============================] - 16s 20ms/step - loss: 0.9099 - accuracy: 0.6850 - val_loss: 0.7993 - val_accuracy: 0.7261\n",
      "Epoch 19/50\n",
      "782/782 [==============================] - 16s 20ms/step - loss: 0.8973 - accuracy: 0.6903 - val_loss: 0.7893 - val_accuracy: 0.7299\n",
      "Epoch 20/50\n",
      "782/782 [==============================] - 16s 20ms/step - loss: 0.8940 - accuracy: 0.6916 - val_loss: 0.7839 - val_accuracy: 0.7357\n",
      "Epoch 21/50\n",
      "782/782 [==============================] - 16s 20ms/step - loss: 0.8838 - accuracy: 0.6971 - val_loss: 0.8188 - val_accuracy: 0.7242\n",
      "Epoch 22/50\n",
      "782/782 [==============================] - 16s 20ms/step - loss: 0.8735 - accuracy: 0.6990 - val_loss: 0.8086 - val_accuracy: 0.7281\n",
      "Epoch 23/50\n",
      "782/782 [==============================] - 16s 20ms/step - loss: 0.8650 - accuracy: 0.7029 - val_loss: 0.8158 - val_accuracy: 0.7224\n",
      "Epoch 24/50\n",
      "782/782 [==============================] - 16s 20ms/step - loss: 0.8557 - accuracy: 0.7081 - val_loss: 0.8016 - val_accuracy: 0.7320\n",
      "Epoch 25/50\n",
      "782/782 [==============================] - 16s 20ms/step - loss: 0.8475 - accuracy: 0.7090 - val_loss: 0.7612 - val_accuracy: 0.7410\n",
      "Epoch 26/50\n",
      "782/782 [==============================] - 16s 20ms/step - loss: 0.8453 - accuracy: 0.7104 - val_loss: 0.7782 - val_accuracy: 0.7360\n",
      "Epoch 27/50\n",
      "782/782 [==============================] - 16s 20ms/step - loss: 0.8347 - accuracy: 0.7123 - val_loss: 0.7425 - val_accuracy: 0.7460\n",
      "Epoch 28/50\n",
      "782/782 [==============================] - 16s 20ms/step - loss: 0.8296 - accuracy: 0.7147 - val_loss: 0.7788 - val_accuracy: 0.7372\n",
      "Epoch 29/50\n",
      "782/782 [==============================] - 16s 21ms/step - loss: 0.8212 - accuracy: 0.7189 - val_loss: 0.7287 - val_accuracy: 0.7506\n",
      "Epoch 30/50\n",
      "782/782 [==============================] - 16s 21ms/step - loss: 0.8224 - accuracy: 0.7189 - val_loss: 0.7890 - val_accuracy: 0.7348\n",
      "Epoch 31/50\n",
      "782/782 [==============================] - 16s 21ms/step - loss: 0.8199 - accuracy: 0.7206 - val_loss: 0.7612 - val_accuracy: 0.7376\n",
      "Epoch 32/50\n",
      "782/782 [==============================] - 16s 20ms/step - loss: 0.8021 - accuracy: 0.7260 - val_loss: 0.7588 - val_accuracy: 0.7425\n",
      "Epoch 33/50\n",
      "782/782 [==============================] - 16s 21ms/step - loss: 0.8018 - accuracy: 0.7231 - val_loss: 0.7673 - val_accuracy: 0.7460\n",
      "Epoch 34/50\n",
      "782/782 [==============================] - 16s 20ms/step - loss: 0.7965 - accuracy: 0.7279 - val_loss: 0.7147 - val_accuracy: 0.7576\n",
      "Epoch 35/50\n",
      "782/782 [==============================] - 16s 20ms/step - loss: 0.7925 - accuracy: 0.7295 - val_loss: 0.6891 - val_accuracy: 0.7683\n",
      "Epoch 36/50\n",
      "782/782 [==============================] - 16s 20ms/step - loss: 0.7917 - accuracy: 0.7291 - val_loss: 0.6859 - val_accuracy: 0.7638\n",
      "Epoch 37/50\n",
      "782/782 [==============================] - 16s 20ms/step - loss: 0.7829 - accuracy: 0.7300 - val_loss: 0.6832 - val_accuracy: 0.7651\n",
      "Epoch 38/50\n",
      "782/782 [==============================] - 16s 20ms/step - loss: 0.7815 - accuracy: 0.7340 - val_loss: 0.7728 - val_accuracy: 0.7443\n",
      "Epoch 39/50\n",
      "782/782 [==============================] - 16s 20ms/step - loss: 0.7726 - accuracy: 0.7372 - val_loss: 0.7315 - val_accuracy: 0.7573\n",
      "Epoch 40/50\n",
      "782/782 [==============================] - 16s 20ms/step - loss: 0.7658 - accuracy: 0.7384 - val_loss: 0.6754 - val_accuracy: 0.7715\n",
      "Epoch 41/50\n",
      "782/782 [==============================] - 16s 20ms/step - loss: 0.7658 - accuracy: 0.7398 - val_loss: 0.7325 - val_accuracy: 0.7567\n",
      "Epoch 42/50\n",
      "782/782 [==============================] - 16s 20ms/step - loss: 0.7674 - accuracy: 0.7385 - val_loss: 0.7138 - val_accuracy: 0.7565\n",
      "Epoch 43/50\n",
      "782/782 [==============================] - 16s 20ms/step - loss: 0.7597 - accuracy: 0.7403 - val_loss: 0.7411 - val_accuracy: 0.7555\n",
      "Epoch 44/50\n",
      "782/782 [==============================] - 16s 20ms/step - loss: 0.7544 - accuracy: 0.7443 - val_loss: 0.6981 - val_accuracy: 0.7632\n",
      "Epoch 45/50\n",
      "782/782 [==============================] - 16s 20ms/step - loss: 0.7531 - accuracy: 0.7428 - val_loss: 0.6678 - val_accuracy: 0.7755\n",
      "Epoch 46/50\n",
      "782/782 [==============================] - 16s 20ms/step - loss: 0.7415 - accuracy: 0.7464 - val_loss: 0.7260 - val_accuracy: 0.7533\n",
      "Epoch 47/50\n",
      "782/782 [==============================] - 16s 20ms/step - loss: 0.7461 - accuracy: 0.7457 - val_loss: 0.6920 - val_accuracy: 0.7671\n",
      "Epoch 48/50\n",
      "782/782 [==============================] - 16s 20ms/step - loss: 0.7430 - accuracy: 0.7483 - val_loss: 0.6955 - val_accuracy: 0.7697\n",
      "Epoch 49/50\n",
      "782/782 [==============================] - 16s 20ms/step - loss: 0.7354 - accuracy: 0.7485 - val_loss: 0.7380 - val_accuracy: 0.7539\n",
      "Epoch 50/50\n",
      "782/782 [==============================] - 16s 20ms/step - loss: 0.7404 - accuracy: 0.7466 - val_loss: 0.7518 - val_accuracy: 0.7527\n"
     ]
    }
   ],
   "source": [
    "# Data augmentation\n",
    "datagen = ImageDataGenerator(\n",
    "    rotation_range=15,\n",
    "    width_shift_range=0.1,\n",
    "    height_shift_range=0.1,\n",
    "    horizontal_flip=True,\n",
    ")\n",
    "\n",
    "datagen.fit(x_train)\n",
    "\n",
    "# Train the model\n",
    "history = model.fit(datagen.flow(x_train, y_train, batch_size=64),\n",
    "                    epochs=50,\n",
    "                    validation_data=(x_test, y_test))"
   ],
   "metadata": {
    "collapsed": false,
    "ExecuteTime": {
     "end_time": "2024-07-29T04:04:54.069630100Z",
     "start_time": "2024-07-29T03:51:34.876343800Z"
    }
   },
   "id": "eaf9731978d1def7"
  },
  {
   "cell_type": "code",
   "execution_count": 5,
   "outputs": [
    {
     "name": "stdout",
     "output_type": "stream",
     "text": [
      "313/313 [==============================] - 1s 2ms/step - loss: 0.7518 - accuracy: 0.7527\n",
      "Test accuracy: 75.27%\n"
     ]
    }
   ],
   "source": [
    "# Evaluate the model\n",
    "test_loss, test_accuracy = model.evaluate(x_test, y_test)\n",
    "print(f\"Test accuracy: {test_accuracy * 100:.2f}%\")"
   ],
   "metadata": {
    "collapsed": false,
    "ExecuteTime": {
     "end_time": "2024-07-29T04:04:54.859923900Z",
     "start_time": "2024-07-29T04:04:54.073627600Z"
    }
   },
   "id": "612844a0397d7266"
  },
  {
   "cell_type": "code",
   "execution_count": 6,
   "outputs": [
    {
     "name": "stdout",
     "output_type": "stream",
     "text": [
      "Epoch 1/50\n",
      "782/782 [==============================] - 23s 28ms/step - loss: 1.8023 - accuracy: 0.3514 - val_loss: 1.6137 - val_accuracy: 0.4616\n",
      "Epoch 2/50\n",
      "782/782 [==============================] - 22s 28ms/step - loss: 1.4918 - accuracy: 0.4611 - val_loss: 1.1883 - val_accuracy: 0.5778\n",
      "Epoch 3/50\n",
      "782/782 [==============================] - 22s 28ms/step - loss: 1.3552 - accuracy: 0.5157 - val_loss: 1.1599 - val_accuracy: 0.5888\n",
      "Epoch 4/50\n",
      "782/782 [==============================] - 22s 28ms/step - loss: 1.2615 - accuracy: 0.5529 - val_loss: 1.2112 - val_accuracy: 0.5991\n",
      "Epoch 5/50\n",
      "782/782 [==============================] - 22s 28ms/step - loss: 1.1922 - accuracy: 0.5790 - val_loss: 2.3539 - val_accuracy: 0.3944\n",
      "Epoch 6/50\n",
      "782/782 [==============================] - 23s 29ms/step - loss: 1.1415 - accuracy: 0.5998 - val_loss: 0.9990 - val_accuracy: 0.6580\n",
      "Epoch 7/50\n",
      "782/782 [==============================] - 23s 30ms/step - loss: 1.1029 - accuracy: 0.6164 - val_loss: 0.8392 - val_accuracy: 0.7123\n",
      "Epoch 8/50\n",
      "782/782 [==============================] - 23s 29ms/step - loss: 1.0630 - accuracy: 0.6296 - val_loss: 1.5039 - val_accuracy: 0.5586\n",
      "Epoch 9/50\n",
      "782/782 [==============================] - 22s 28ms/step - loss: 1.0400 - accuracy: 0.6387 - val_loss: 1.3223 - val_accuracy: 0.5750\n",
      "Epoch 10/50\n",
      "782/782 [==============================] - 22s 28ms/step - loss: 1.0052 - accuracy: 0.6506 - val_loss: 1.0965 - val_accuracy: 0.6358\n",
      "Epoch 11/50\n",
      "782/782 [==============================] - 22s 28ms/step - loss: 0.9877 - accuracy: 0.6578 - val_loss: 1.0649 - val_accuracy: 0.6528\n",
      "Epoch 12/50\n",
      "782/782 [==============================] - 22s 29ms/step - loss: 0.9679 - accuracy: 0.6650 - val_loss: 0.7592 - val_accuracy: 0.7473\n",
      "Epoch 13/50\n",
      "782/782 [==============================] - 22s 29ms/step - loss: 0.9515 - accuracy: 0.6705 - val_loss: 1.1320 - val_accuracy: 0.6364\n",
      "Epoch 14/50\n",
      "782/782 [==============================] - 23s 29ms/step - loss: 0.9404 - accuracy: 0.6745 - val_loss: 0.7512 - val_accuracy: 0.7421\n",
      "Epoch 15/50\n",
      "782/782 [==============================] - 23s 29ms/step - loss: 0.9148 - accuracy: 0.6852 - val_loss: 0.9742 - val_accuracy: 0.6714\n",
      "Epoch 16/50\n",
      "782/782 [==============================] - 26s 33ms/step - loss: 0.9111 - accuracy: 0.6858 - val_loss: 0.7965 - val_accuracy: 0.7292\n",
      "Epoch 17/50\n",
      "782/782 [==============================] - 27s 34ms/step - loss: 0.8938 - accuracy: 0.6909 - val_loss: 0.8476 - val_accuracy: 0.7118\n",
      "Epoch 18/50\n",
      "782/782 [==============================] - 26s 34ms/step - loss: 0.8699 - accuracy: 0.6990 - val_loss: 0.6993 - val_accuracy: 0.7577\n",
      "Epoch 19/50\n",
      "782/782 [==============================] - 24s 31ms/step - loss: 0.8633 - accuracy: 0.7021 - val_loss: 0.7568 - val_accuracy: 0.7444\n",
      "Epoch 20/50\n",
      "782/782 [==============================] - 25s 32ms/step - loss: 0.8536 - accuracy: 0.7026 - val_loss: 0.7025 - val_accuracy: 0.7585\n",
      "Epoch 21/50\n",
      "782/782 [==============================] - 25s 31ms/step - loss: 0.8433 - accuracy: 0.7092 - val_loss: 0.8092 - val_accuracy: 0.7345\n",
      "Epoch 22/50\n",
      "782/782 [==============================] - 25s 32ms/step - loss: 0.8303 - accuracy: 0.7132 - val_loss: 0.7129 - val_accuracy: 0.7554\n",
      "Epoch 23/50\n",
      "782/782 [==============================] - 25s 32ms/step - loss: 0.8277 - accuracy: 0.7146 - val_loss: 0.7863 - val_accuracy: 0.7400\n",
      "Epoch 24/50\n",
      "782/782 [==============================] - 23s 30ms/step - loss: 0.8130 - accuracy: 0.7194 - val_loss: 0.7928 - val_accuracy: 0.7433\n",
      "Epoch 25/50\n",
      "782/782 [==============================] - 23s 29ms/step - loss: 0.8068 - accuracy: 0.7215 - val_loss: 0.6182 - val_accuracy: 0.7882\n",
      "Epoch 26/50\n",
      "782/782 [==============================] - 22s 28ms/step - loss: 0.8027 - accuracy: 0.7222 - val_loss: 0.6966 - val_accuracy: 0.7641\n",
      "Epoch 27/50\n",
      "782/782 [==============================] - 22s 28ms/step - loss: 0.7877 - accuracy: 0.7288 - val_loss: 0.6985 - val_accuracy: 0.7604\n",
      "Epoch 28/50\n",
      "782/782 [==============================] - 22s 28ms/step - loss: 0.7861 - accuracy: 0.7311 - val_loss: 0.8363 - val_accuracy: 0.7369\n",
      "Epoch 29/50\n",
      "782/782 [==============================] - 22s 28ms/step - loss: 0.7736 - accuracy: 0.7323 - val_loss: 0.7678 - val_accuracy: 0.7422\n",
      "Epoch 30/50\n",
      "782/782 [==============================] - 22s 28ms/step - loss: 0.7670 - accuracy: 0.7347 - val_loss: 0.8085 - val_accuracy: 0.7398\n",
      "Epoch 31/50\n",
      "782/782 [==============================] - 22s 28ms/step - loss: 0.7701 - accuracy: 0.7378 - val_loss: 1.0493 - val_accuracy: 0.6733\n",
      "Epoch 32/50\n",
      "782/782 [==============================] - 22s 28ms/step - loss: 0.7605 - accuracy: 0.7353 - val_loss: 0.6543 - val_accuracy: 0.7836\n",
      "Epoch 33/50\n",
      "782/782 [==============================] - 22s 28ms/step - loss: 0.7516 - accuracy: 0.7401 - val_loss: 0.6160 - val_accuracy: 0.7900\n",
      "Epoch 34/50\n",
      "782/782 [==============================] - 22s 28ms/step - loss: 0.7521 - accuracy: 0.7414 - val_loss: 0.7144 - val_accuracy: 0.7652\n",
      "Epoch 35/50\n",
      "782/782 [==============================] - 22s 28ms/step - loss: 0.7425 - accuracy: 0.7439 - val_loss: 0.8797 - val_accuracy: 0.7166\n",
      "Epoch 36/50\n",
      "782/782 [==============================] - 22s 28ms/step - loss: 0.7388 - accuracy: 0.7442 - val_loss: 0.6282 - val_accuracy: 0.7906\n",
      "Epoch 37/50\n",
      "782/782 [==============================] - 22s 28ms/step - loss: 0.7309 - accuracy: 0.7467 - val_loss: 0.6356 - val_accuracy: 0.7880\n",
      "Epoch 38/50\n",
      "782/782 [==============================] - 22s 28ms/step - loss: 0.7311 - accuracy: 0.7485 - val_loss: 0.6314 - val_accuracy: 0.7873\n",
      "Epoch 39/50\n",
      "782/782 [==============================] - 22s 29ms/step - loss: 0.7231 - accuracy: 0.7485 - val_loss: 0.6088 - val_accuracy: 0.7906\n",
      "Epoch 40/50\n",
      "782/782 [==============================] - 23s 29ms/step - loss: 0.7218 - accuracy: 0.7513 - val_loss: 0.5872 - val_accuracy: 0.8020\n",
      "Epoch 41/50\n",
      "782/782 [==============================] - 23s 29ms/step - loss: 0.7139 - accuracy: 0.7540 - val_loss: 0.5774 - val_accuracy: 0.8054\n",
      "Epoch 42/50\n",
      "782/782 [==============================] - 23s 29ms/step - loss: 0.7164 - accuracy: 0.7539 - val_loss: 0.6797 - val_accuracy: 0.7772\n",
      "Epoch 43/50\n",
      "782/782 [==============================] - 22s 29ms/step - loss: 0.7163 - accuracy: 0.7532 - val_loss: 0.7231 - val_accuracy: 0.7536\n",
      "Epoch 44/50\n",
      "782/782 [==============================] - 22s 28ms/step - loss: 0.7147 - accuracy: 0.7526 - val_loss: 0.6531 - val_accuracy: 0.7829\n",
      "Epoch 45/50\n",
      "782/782 [==============================] - 22s 28ms/step - loss: 0.7004 - accuracy: 0.7573 - val_loss: 0.6000 - val_accuracy: 0.8006\n",
      "Epoch 46/50\n",
      "782/782 [==============================] - 22s 28ms/step - loss: 0.7013 - accuracy: 0.7571 - val_loss: 0.6068 - val_accuracy: 0.8009\n",
      "Epoch 47/50\n",
      "782/782 [==============================] - 23s 29ms/step - loss: 0.6954 - accuracy: 0.7600 - val_loss: 0.6887 - val_accuracy: 0.7748\n",
      "Epoch 48/50\n",
      "782/782 [==============================] - 23s 30ms/step - loss: 0.6949 - accuracy: 0.7608 - val_loss: 0.6099 - val_accuracy: 0.7917\n",
      "Epoch 49/50\n",
      "782/782 [==============================] - 23s 29ms/step - loss: 0.6892 - accuracy: 0.7625 - val_loss: 0.6021 - val_accuracy: 0.7968\n",
      "Epoch 50/50\n",
      "782/782 [==============================] - 22s 29ms/step - loss: 0.6924 - accuracy: 0.7609 - val_loss: 0.7896 - val_accuracy: 0.7433\n",
      "313/313 [==============================] - 1s 4ms/step - loss: 0.7896 - accuracy: 0.7433\n",
      "Complex model test accuracy: 74.33%\n"
     ]
    }
   ],
   "source": [
    "from tensorflow.keras.layers import BatchNormalization\n",
    "\n",
    "def create_complex_cnn_model():\n",
    "    model = Sequential()\n",
    "    \n",
    "    model.add(Conv2D(32, (3, 3), padding='same', activation='relu', input_shape=(32, 32, 3)))\n",
    "    model.add(BatchNormalization())\n",
    "    model.add(MaxPooling2D((2, 2)))\n",
    "    model.add(Dropout(0.25))\n",
    "    \n",
    "    model.add(Conv2D(64, (3, 3), padding='same', activation='relu'))\n",
    "    model.add(BatchNormalization())\n",
    "    model.add(MaxPooling2D((2, 2)))\n",
    "    model.add(Dropout(0.25))\n",
    "    \n",
    "    model.add(Conv2D(128, (3, 3), padding='same', activation='relu'))\n",
    "    model.add(BatchNormalization())\n",
    "    model.add(MaxPooling2D((2, 2)))\n",
    "    model.add(Dropout(0.25))\n",
    "    \n",
    "    model.add(Flatten())\n",
    "    model.add(Dense(256, activation='relu'))\n",
    "    model.add(Dropout(0.5))\n",
    "    model.add(Dense(10, activation='softmax'))\n",
    "    \n",
    "    return model\n",
    "\n",
    "complex_model = create_complex_cnn_model()\n",
    "complex_model.compile(optimizer='adam', loss='categorical_crossentropy', metrics=['accuracy'])\n",
    "\n",
    "# Train the complex model\n",
    "complex_history = complex_model.fit(datagen.flow(x_train, y_train, batch_size=64),\n",
    "                                    epochs=50,\n",
    "                                    validation_data=(x_test, y_test))\n",
    "\n",
    "# Evaluate the complex model\n",
    "complex_test_loss, complex_test_accuracy = complex_model.evaluate(x_test, y_test)\n",
    "print(f\"Complex model test accuracy: {complex_test_accuracy * 100:.2f}%\")"
   ],
   "metadata": {
    "collapsed": false,
    "ExecuteTime": {
     "end_time": "2024-07-29T04:23:57.871333700Z",
     "start_time": "2024-07-29T04:04:54.862923800Z"
    }
   },
   "id": "398cb9a7fa0bc370"
  }
 ],
 "metadata": {
  "kernelspec": {
   "display_name": "Python 3",
   "language": "python",
   "name": "python3"
  },
  "language_info": {
   "codemirror_mode": {
    "name": "ipython",
    "version": 2
   },
   "file_extension": ".py",
   "mimetype": "text/x-python",
   "name": "python",
   "nbconvert_exporter": "python",
   "pygments_lexer": "ipython2",
   "version": "2.7.6"
  }
 },
 "nbformat": 4,
 "nbformat_minor": 5
}
