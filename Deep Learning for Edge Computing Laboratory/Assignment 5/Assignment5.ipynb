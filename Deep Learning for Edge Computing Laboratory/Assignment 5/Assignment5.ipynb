{
 "cells": [
  {
   "cell_type": "code",
   "id": "initial_id",
   "metadata": {
    "collapsed": true,
    "ExecuteTime": {
     "end_time": "2024-10-06T12:27:05.361878Z",
     "start_time": "2024-10-06T12:26:58.326098Z"
    }
   },
   "source": [
    "import tensorflow as tf\n",
    "from tensorflow.keras.datasets import imdb\n",
    "from tensorflow.keras.preprocessing import sequence\n",
    "from tensorflow.keras.models import Sequential\n",
    "from tensorflow.keras.layers import Embedding, LSTM, Dropout, BatchNormalization, Dense"
   ],
   "outputs": [
    {
     "name": "stdout",
     "output_type": "stream",
     "text": [
      "WARNING:tensorflow:From C:\\Users\\soura\\venv\\Lib\\site-packages\\keras\\src\\losses.py:2976: The name tf.losses.sparse_softmax_cross_entropy is deprecated. Please use tf.compat.v1.losses.sparse_softmax_cross_entropy instead.\n",
      "\n"
     ]
    }
   ],
   "execution_count": 1
  },
  {
   "metadata": {
    "ExecuteTime": {
     "end_time": "2024-10-06T12:27:05.380389Z",
     "start_time": "2024-10-06T12:27:05.375501Z"
    }
   },
   "cell_type": "code",
   "source": [
    "# Step 1: Set parameters\n",
    "max_features = 20000  # Vocabulary size\n",
    "maxlen = 200          # Maximum sequence length\n",
    "batch_size = 32"
   ],
   "id": "b1247d0012d2ce61",
   "outputs": [],
   "execution_count": 2
  },
  {
   "metadata": {
    "ExecuteTime": {
     "end_time": "2024-10-06T12:27:52.123461Z",
     "start_time": "2024-10-06T12:27:05.385937Z"
    }
   },
   "cell_type": "code",
   "source": [
    "# Step 2: Load the IMDb dataset\n",
    "(x_train, y_train), (x_test, y_test) = imdb.load_data(num_words=max_features)"
   ],
   "id": "1bc3137ea6261851",
   "outputs": [
    {
     "name": "stdout",
     "output_type": "stream",
     "text": [
      "Downloading data from https://storage.googleapis.com/tensorflow/tf-keras-datasets/imdb.npz\n",
      "17464789/17464789 [==============================] - 43s 2us/step\n"
     ]
    }
   ],
   "execution_count": 3
  },
  {
   "metadata": {
    "ExecuteTime": {
     "end_time": "2024-10-06T12:27:53.250872Z",
     "start_time": "2024-10-06T12:27:52.678423Z"
    }
   },
   "cell_type": "code",
   "source": [
    "# Step 3: Preprocess the data (pad sequences to ensure uniform length)\n",
    "x_train = sequence.pad_sequences(x_train, maxlen=maxlen)\n",
    "x_test = sequence.pad_sequences(x_test, maxlen=maxlen)"
   ],
   "id": "93014df563c781c4",
   "outputs": [],
   "execution_count": 4
  },
  {
   "metadata": {
    "ExecuteTime": {
     "end_time": "2024-10-06T12:27:54.303196Z",
     "start_time": "2024-10-06T12:27:53.264832Z"
    }
   },
   "cell_type": "code",
   "source": [
    "# Step 4: Build the neural network model\n",
    "model = Sequential()\n",
    "model.add(Embedding(max_features, 128, input_length=maxlen))\n",
    "model.add(LSTM(128, return_sequences=True))\n",
    "model.add(Dropout(0.2))\n",
    "model.add(BatchNormalization())\n",
    "model.add(LSTM(128))\n",
    "model.add(Dropout(0.2))\n",
    "model.add(BatchNormalization())\n",
    "model.add(Dense(1, activation='sigmoid'))"
   ],
   "id": "e3da7fb4a71e02b0",
   "outputs": [
    {
     "name": "stdout",
     "output_type": "stream",
     "text": [
      "WARNING:tensorflow:From C:\\Users\\soura\\venv\\Lib\\site-packages\\keras\\src\\backend.py:873: The name tf.get_default_graph is deprecated. Please use tf.compat.v1.get_default_graph instead.\n",
      "\n"
     ]
    }
   ],
   "execution_count": 5
  },
  {
   "metadata": {
    "ExecuteTime": {
     "end_time": "2024-10-06T12:27:54.405966Z",
     "start_time": "2024-10-06T12:27:54.314461Z"
    }
   },
   "cell_type": "code",
   "source": [
    "# Step 5: Compile the model\n",
    "model.compile(loss='binary_crossentropy',\n",
    "              optimizer='adam',\n",
    "              metrics=['accuracy'])"
   ],
   "id": "7e85a15d68201187",
   "outputs": [
    {
     "name": "stdout",
     "output_type": "stream",
     "text": [
      "WARNING:tensorflow:From C:\\Users\\soura\\venv\\Lib\\site-packages\\keras\\src\\optimizers\\__init__.py:309: The name tf.train.Optimizer is deprecated. Please use tf.compat.v1.train.Optimizer instead.\n",
      "\n"
     ]
    }
   ],
   "execution_count": 6
  },
  {
   "metadata": {
    "ExecuteTime": {
     "end_time": "2024-10-06T13:00:20.874539Z",
     "start_time": "2024-10-06T12:27:54.417757Z"
    }
   },
   "cell_type": "code",
   "source": [
    "# Step 6: Train the model\n",
    "model.fit(x_train, y_train,\n",
    "          batch_size=batch_size,\n",
    "          epochs=10,\n",
    "          validation_data=(x_test, y_test))"
   ],
   "id": "ec8f7b51d15e2006",
   "outputs": [
    {
     "name": "stdout",
     "output_type": "stream",
     "text": [
      "Epoch 1/10\n",
      "WARNING:tensorflow:From C:\\Users\\soura\\venv\\Lib\\site-packages\\keras\\src\\utils\\tf_utils.py:492: The name tf.ragged.RaggedTensorValue is deprecated. Please use tf.compat.v1.ragged.RaggedTensorValue instead.\n",
      "\n",
      "WARNING:tensorflow:From C:\\Users\\soura\\venv\\Lib\\site-packages\\keras\\src\\engine\\base_layer_utils.py:384: The name tf.executing_eagerly_outside_functions is deprecated. Please use tf.compat.v1.executing_eagerly_outside_functions instead.\n",
      "\n",
      "782/782 [==============================] - 202s 252ms/step - loss: 0.4888 - accuracy: 0.7706 - val_loss: 0.7157 - val_accuracy: 0.6620\n",
      "Epoch 2/10\n",
      "782/782 [==============================] - 193s 247ms/step - loss: 0.2578 - accuracy: 0.8962 - val_loss: 0.3650 - val_accuracy: 0.8421\n",
      "Epoch 3/10\n",
      "782/782 [==============================] - 196s 250ms/step - loss: 0.1617 - accuracy: 0.9391 - val_loss: 0.4451 - val_accuracy: 0.8133\n",
      "Epoch 4/10\n",
      "782/782 [==============================] - 188s 240ms/step - loss: 0.1128 - accuracy: 0.9593 - val_loss: 1.0748 - val_accuracy: 0.7497\n",
      "Epoch 5/10\n",
      "782/782 [==============================] - 197s 252ms/step - loss: 0.0831 - accuracy: 0.9714 - val_loss: 0.7136 - val_accuracy: 0.8144\n",
      "Epoch 6/10\n",
      "782/782 [==============================] - 199s 255ms/step - loss: 0.0711 - accuracy: 0.9756 - val_loss: 0.6685 - val_accuracy: 0.8478\n",
      "Epoch 7/10\n",
      "782/782 [==============================] - 206s 264ms/step - loss: 0.0619 - accuracy: 0.9789 - val_loss: 0.5857 - val_accuracy: 0.8344\n",
      "Epoch 8/10\n",
      "782/782 [==============================] - 188s 241ms/step - loss: 0.0500 - accuracy: 0.9837 - val_loss: 0.6422 - val_accuracy: 0.8321\n",
      "Epoch 9/10\n",
      "782/782 [==============================] - 189s 242ms/step - loss: 0.0526 - accuracy: 0.9820 - val_loss: 0.7564 - val_accuracy: 0.8218\n",
      "Epoch 10/10\n",
      "782/782 [==============================] - 188s 241ms/step - loss: 0.0491 - accuracy: 0.9830 - val_loss: 0.6484 - val_accuracy: 0.8391\n"
     ]
    },
    {
     "data": {
      "text/plain": [
       "<keras.src.callbacks.History at 0x20af3d28dd0>"
      ]
     },
     "execution_count": 7,
     "metadata": {},
     "output_type": "execute_result"
    }
   ],
   "execution_count": 7
  },
  {
   "metadata": {
    "ExecuteTime": {
     "end_time": "2024-10-06T13:01:11.621218Z",
     "start_time": "2024-10-06T13:00:20.993692Z"
    }
   },
   "cell_type": "code",
   "source": [
    "# Step 7: Evaluate the model\n",
    "score, acc = model.evaluate(x_test, y_test, batch_size=batch_size)\n",
    "print('Test score:', score)\n",
    "print('Test accuracy:', acc)"
   ],
   "id": "790c0d6e0059c4c3",
   "outputs": [
    {
     "name": "stdout",
     "output_type": "stream",
     "text": [
      "782/782 [==============================] - 51s 65ms/step - loss: 0.6484 - accuracy: 0.8391\n",
      "Test score: 0.6484419107437134\n",
      "Test accuracy: 0.8390799760818481\n"
     ]
    }
   ],
   "execution_count": 8
  },
  {
   "metadata": {
    "ExecuteTime": {
     "end_time": "2024-10-06T13:08:44.182516Z",
     "start_time": "2024-10-06T13:07:53.466600Z"
    }
   },
   "cell_type": "code",
   "source": [
    "# Step 8: Make predictions on new data\n",
    "predictions = model.predict(x_test)"
   ],
   "id": "c40c6b36781d978f",
   "outputs": [
    {
     "name": "stdout",
     "output_type": "stream",
     "text": [
      "782/782 [==============================] - 50s 64ms/step\n"
     ]
    }
   ],
   "execution_count": 11
  }
 ],
 "metadata": {
  "kernelspec": {
   "display_name": "Python 3",
   "language": "python",
   "name": "python3"
  },
  "language_info": {
   "codemirror_mode": {
    "name": "ipython",
    "version": 2
   },
   "file_extension": ".py",
   "mimetype": "text/x-python",
   "name": "python",
   "nbconvert_exporter": "python",
   "pygments_lexer": "ipython2",
   "version": "2.7.6"
  }
 },
 "nbformat": 4,
 "nbformat_minor": 5
}
