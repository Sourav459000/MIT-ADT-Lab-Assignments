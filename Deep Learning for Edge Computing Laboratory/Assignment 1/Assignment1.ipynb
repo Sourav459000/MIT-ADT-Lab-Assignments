{
 "cells": [
  {
   "cell_type": "markdown",
   "source": [
    "Using only numpy, design a simple neural network to classify the Iris flowers into 3 species based on sepal length, sepal width, petal length and petal width."
   ],
   "metadata": {
    "collapsed": false
   },
   "id": "96550e05e3e62903"
  },
  {
   "cell_type": "code",
   "execution_count": 1,
   "outputs": [],
   "source": [
    "import numpy as np\n",
    "import pandas as pd\n",
    "from sklearn.model_selection import train_test_split"
   ],
   "metadata": {
    "collapsed": false,
    "ExecuteTime": {
     "end_time": "2024-07-29T03:50:24.048301Z",
     "start_time": "2024-07-29T03:50:15.136442Z"
    }
   },
   "id": "ac590147fca1af49"
  },
  {
   "cell_type": "code",
   "execution_count": 2,
   "outputs": [],
   "source": [
    "data = pd.read_csv('Iris_Data.csv')"
   ],
   "metadata": {
    "collapsed": false,
    "ExecuteTime": {
     "end_time": "2024-07-29T03:50:24.091617800Z",
     "start_time": "2024-07-29T03:50:24.048301Z"
    }
   },
   "id": "48ecbffda594608c"
  },
  {
   "cell_type": "code",
   "execution_count": 3,
   "outputs": [],
   "source": [
    "data['species'] = data['species'].astype('category').cat.codes"
   ],
   "metadata": {
    "collapsed": false,
    "ExecuteTime": {
     "end_time": "2024-07-29T03:50:24.092512100Z",
     "start_time": "2024-07-29T03:50:24.072054600Z"
    }
   },
   "id": "981906f25d89335e"
  },
  {
   "cell_type": "code",
   "execution_count": 4,
   "outputs": [],
   "source": [
    "X = data.iloc[:, :-1].values\n",
    "y = data.iloc[:, -1].values\n",
    "\n",
    "X_mean = X.mean(axis=0)\n",
    "X_std = X.std(axis=0)\n",
    "X = (X - X.mean(axis=0)) / X.std(axis=0)\n",
    "\n",
    "y = np.eye(3)[y]"
   ],
   "metadata": {
    "collapsed": false,
    "ExecuteTime": {
     "end_time": "2024-07-29T03:50:24.092512100Z",
     "start_time": "2024-07-29T03:50:24.083201800Z"
    }
   },
   "id": "cbdb9edec31de5d3"
  },
  {
   "cell_type": "code",
   "execution_count": 5,
   "outputs": [],
   "source": [
    "X_train, X_test, y_train, y_test = train_test_split(X, y, test_size=0.2, random_state=42)"
   ],
   "metadata": {
    "collapsed": false,
    "ExecuteTime": {
     "end_time": "2024-07-29T03:50:24.111341900Z",
     "start_time": "2024-07-29T03:50:24.089618600Z"
    }
   },
   "id": "c16c4750f24f5180"
  },
  {
   "cell_type": "code",
   "execution_count": 6,
   "outputs": [],
   "source": [
    "input_size = X.shape[1]\n",
    "hidden_size = 10\n",
    "output_size = 3"
   ],
   "metadata": {
    "collapsed": false,
    "ExecuteTime": {
     "end_time": "2024-07-29T03:50:24.112341400Z",
     "start_time": "2024-07-29T03:50:24.097024Z"
    }
   },
   "id": "b7eb7c504bdd91fa"
  },
  {
   "cell_type": "code",
   "execution_count": 7,
   "outputs": [],
   "source": [
    "np.random.seed(42)\n",
    "W1 = np.random.randn(input_size, hidden_size)\n",
    "b1 = np.zeros((1, hidden_size))\n",
    "W2 = np.random.randn(hidden_size, output_size)\n",
    "b2 = np.zeros((1, output_size))"
   ],
   "metadata": {
    "collapsed": false,
    "ExecuteTime": {
     "end_time": "2024-07-29T03:50:24.112409600Z",
     "start_time": "2024-07-29T03:50:24.102176200Z"
    }
   },
   "id": "52059531b49785e0"
  },
  {
   "cell_type": "code",
   "execution_count": 8,
   "outputs": [],
   "source": [
    "def sigmoid(z):\n",
    "    return 1 / (1 + np.exp(-z))\n",
    "\n",
    "def sigmoid_derivative(z):\n",
    "    return z * (1 - z)\n",
    "\n",
    "def softmax(z):\n",
    "    exp_z = np.exp(z - np.max(z, axis=1, keepdims=True))\n",
    "    return exp_z / np.sum(exp_z, axis=1, keepdims=True)"
   ],
   "metadata": {
    "collapsed": false,
    "ExecuteTime": {
     "end_time": "2024-07-29T03:50:24.176816Z",
     "start_time": "2024-07-29T03:50:24.109342700Z"
    }
   },
   "id": "cf4881830b65dcfa"
  },
  {
   "cell_type": "code",
   "execution_count": 9,
   "outputs": [],
   "source": [
    "def forward_propagation(X):\n",
    "    Z1 = np.dot(X, W1) + b1\n",
    "    A1 = sigmoid(Z1)\n",
    "    Z2 = np.dot(A1, W2) + b2\n",
    "    A2 = softmax(Z2)\n",
    "    return Z1, A1, Z2, A2"
   ],
   "metadata": {
    "collapsed": false,
    "ExecuteTime": {
     "end_time": "2024-07-29T03:50:24.176816Z",
     "start_time": "2024-07-29T03:50:24.115920700Z"
    }
   },
   "id": "6a80b40166a91848"
  },
  {
   "cell_type": "code",
   "execution_count": 10,
   "outputs": [],
   "source": [
    "def compute_loss(y_true, y_pred):\n",
    "    return -np.mean(np.sum(y_true * np.log(y_pred + 1e-8), axis=1))"
   ],
   "metadata": {
    "collapsed": false,
    "ExecuteTime": {
     "end_time": "2024-07-29T03:50:24.177814600Z",
     "start_time": "2024-07-29T03:50:24.121725300Z"
    }
   },
   "id": "ae25328f6c3f29f5"
  },
  {
   "cell_type": "code",
   "execution_count": 11,
   "outputs": [],
   "source": [
    "def backward_propagation(X, y_true, Z1, A1, Z2, A2):\n",
    "    m = X.shape[0]\n",
    "\n",
    "    dZ2 = A2 - y_true\n",
    "    dW2 = np.dot(A1.T, dZ2) / m\n",
    "    db2 = np.sum(dZ2, axis=0, keepdims=True) / m\n",
    "\n",
    "    dA1 = np.dot(dZ2, W2.T)\n",
    "    dZ1 = dA1 * sigmoid_derivative(A1)\n",
    "    dW1 = np.dot(X.T, dZ1) / m\n",
    "    db1 = np.sum(dZ1, axis=0, keepdims=True) / m\n",
    "\n",
    "    return dW1, db1, dW2, db2"
   ],
   "metadata": {
    "collapsed": false,
    "ExecuteTime": {
     "end_time": "2024-07-29T03:50:24.177814600Z",
     "start_time": "2024-07-29T03:50:24.157297800Z"
    }
   },
   "id": "f0ee46508b54adf8"
  },
  {
   "cell_type": "code",
   "execution_count": 12,
   "outputs": [],
   "source": [
    "def update_parameters(W1, b1, W2, b2, dW1, db1, dW2, db2, learning_rate):\n",
    "    W1 -= learning_rate * dW1\n",
    "    b1 -= learning_rate * db1\n",
    "    W2 -= learning_rate * dW2\n",
    "    b2 -= learning_rate * db2\n",
    "    return W1, b1, W2, b2"
   ],
   "metadata": {
    "collapsed": false,
    "ExecuteTime": {
     "end_time": "2024-07-29T03:50:24.177814600Z",
     "start_time": "2024-07-29T03:50:24.157297800Z"
    }
   },
   "id": "ff4606fc00d4e88"
  },
  {
   "cell_type": "code",
   "execution_count": 13,
   "outputs": [
    {
     "name": "stdout",
     "output_type": "stream",
     "text": [
      "Epoch 0, Loss: 1.2222\n",
      "Epoch 100, Loss: 0.7924\n",
      "Epoch 200, Loss: 0.6423\n",
      "Epoch 300, Loss: 0.5704\n",
      "Epoch 400, Loss: 0.5239\n",
      "Epoch 500, Loss: 0.4901\n",
      "Epoch 600, Loss: 0.4639\n",
      "Epoch 700, Loss: 0.4428\n",
      "Epoch 800, Loss: 0.4253\n",
      "Epoch 900, Loss: 0.4104\n"
     ]
    }
   ],
   "source": [
    "num_epochs = 1000\n",
    "learning_rate = 0.01\n",
    "\n",
    "for epoch in range(num_epochs):\n",
    "    Z1, A1, Z2, A2 = forward_propagation(X_train)\n",
    "\n",
    "    loss = compute_loss(y_train, A2)\n",
    "\n",
    "    dW1, db1, dW2, db2 = backward_propagation(X_train, y_train, Z1, A1, Z2, A2)\n",
    "\n",
    "    W1, b1, W2, b2 = update_parameters(W1, b1, W2, b2, dW1, db1, dW2, db2, learning_rate)\n",
    "\n",
    "    if epoch % 100 == 0:\n",
    "        print(f'Epoch {epoch}, Loss: {loss:.4f}')"
   ],
   "metadata": {
    "collapsed": false,
    "ExecuteTime": {
     "end_time": "2024-07-29T03:50:24.256659600Z",
     "start_time": "2024-07-29T03:50:24.157297800Z"
    }
   },
   "id": "be811e90d4de242d"
  },
  {
   "cell_type": "code",
   "execution_count": 14,
   "outputs": [
    {
     "name": "stdout",
     "output_type": "stream",
     "text": [
      "Testing accuracy: 0.9333\n"
     ]
    }
   ],
   "source": [
    "def predict(X):\n",
    "    _, _, _, A2 = forward_propagation(X)\n",
    "    return np.argmax(A2, axis=1)\n",
    "\n",
    "test_predictions = predict(X_test)\n",
    "test_accuracy = np.mean(test_predictions == np.argmax(y_test, axis=1))\n",
    "print(f'Testing accuracy: {test_accuracy:.4f}')"
   ],
   "metadata": {
    "collapsed": false,
    "ExecuteTime": {
     "end_time": "2024-07-29T03:50:24.269699100Z",
     "start_time": "2024-07-29T03:50:24.256659600Z"
    }
   },
   "id": "cae9a09108e007e9"
  },
  {
   "cell_type": "code",
   "execution_count": 15,
   "outputs": [
    {
     "name": "stdout",
     "output_type": "stream",
     "text": [
      "Predicted species: setosa\n"
     ]
    }
   ],
   "source": [
    "def predict_species(sepal_length, sepal_width, petal_length, petal_width):\n",
    "    input_data = np.array([sepal_length, sepal_width, petal_length, petal_width])\n",
    "    input_data = (input_data - X_mean) / X_std\n",
    "    input_data = input_data.reshape(1, -1)\n",
    "    \n",
    "    prediction = predict(input_data)\n",
    "    species_mapping = {0: 'setosa', 1: 'versicolor', 2: 'virginica'}\n",
    "    return species_mapping[prediction[0]]\n",
    "\n",
    "sepal_length = 5.1\n",
    "sepal_width = 3.5\n",
    "petal_length = 1.4\n",
    "petal_width = 0.2\n",
    "\n",
    "predicted_species = predict_species(sepal_length, sepal_width, petal_length, petal_width)\n",
    "print(f'Predicted species: {predicted_species}')"
   ],
   "metadata": {
    "collapsed": false,
    "ExecuteTime": {
     "end_time": "2024-07-29T03:50:24.269699100Z",
     "start_time": "2024-07-29T03:50:24.262636900Z"
    }
   },
   "id": "ee0e53dfad9b629c"
  }
 ],
 "metadata": {
  "kernelspec": {
   "display_name": "Python 3",
   "language": "python",
   "name": "python3"
  },
  "language_info": {
   "codemirror_mode": {
    "name": "ipython",
    "version": 2
   },
   "file_extension": ".py",
   "mimetype": "text/x-python",
   "name": "python",
   "nbconvert_exporter": "python",
   "pygments_lexer": "ipython2",
   "version": "2.7.6"
  }
 },
 "nbformat": 4,
 "nbformat_minor": 5
}
